{
 "cells": [
  {
   "cell_type": "markdown",
   "id": "af6dd98f",
   "metadata": {},
   "source": [
    "과제 제출시 각 문제의 정답 코드에는 사용한 Library import 부분부터 모두 작성해서 제출해주세요. \n",
    "\n",
    "(문제마다 사용한 라이브러리가 적절했는지 확인하기 위함입니다. 동일 라이브러리 중복 작성은 무관합니다.)"
   ]
  },
  {
   "cell_type": "markdown",
   "id": "3903e1ee",
   "metadata": {},
   "source": [
    "## **문제 1 : 데이터 로딩 & 구조 확인하기**\n",
    "    \n",
    "### **문제 설명**\n",
    "    \n",
    "CSV를 DataFrame으로 로드한 뒤 구조를 빠르게 진단합니다. 분석의 첫 단계입니다.\n",
    "    \n",
    "### **필요 지식**\n",
    "    \n",
    "`pd.read_csv`, `DataFrame.shape`, `DataFrame.info`, `DataFrame.head`\n",
    "    \n",
    "### **지시 사항**\n",
    "    \n",
    "1. `StudentsPerformance.csv`를 DataFrame으로 로드\n",
    "2. 행·열 수와 컬럼별 dtype/info 출력\n",
    "3. 상위 5행 출력\n",
    "    \n",
    "### **시각화 요구**\n",
    "    \n",
    "(없음)\n",
    "    \n",
    "### **채점 포인트**\n",
    "    \n",
    "- 파일 로딩 코드 정확성\n",
    "- `.shape`, `.info()`, `.head()` 출력 여부"
   ]
  },
  {
   "cell_type": "markdown",
   "id": "6565ea37",
   "metadata": {},
   "source": [
    "#### Logic"
   ]
  },
  {
   "cell_type": "markdown",
   "id": "c0369d42",
   "metadata": {
    "vscode": {
     "languageId": "raw"
    }
   },
   "source": [
    "1. pandas 불러오기\n",
    "2. csv 읽기"
   ]
  },
  {
   "cell_type": "markdown",
   "id": "a7b1855e",
   "metadata": {},
   "source": [
    "#### MY CODING"
   ]
  },
  {
   "cell_type": "code",
   "execution_count": 2,
   "id": "9bc72a28",
   "metadata": {},
   "outputs": [
    {
     "ename": "FileNotFoundError",
     "evalue": "[Errno 2] No such file or directory: 'Studentsformance.csv'",
     "output_type": "error",
     "traceback": [
      "\u001b[1;31m---------------------------------------------------------------------------\u001b[0m",
      "\u001b[1;31mFileNotFoundError\u001b[0m                         Traceback (most recent call last)",
      "Cell \u001b[1;32mIn[2], line 3\u001b[0m\n\u001b[0;32m      1\u001b[0m \u001b[38;5;28;01mimport\u001b[39;00m\u001b[38;5;250m \u001b[39m\u001b[38;5;21;01mpandas\u001b[39;00m\u001b[38;5;250m \u001b[39m\u001b[38;5;28;01mas\u001b[39;00m\u001b[38;5;250m \u001b[39m\u001b[38;5;21;01mpd\u001b[39;00m\n\u001b[1;32m----> 3\u001b[0m df \u001b[38;5;241m=\u001b[39m \u001b[43mpd\u001b[49m\u001b[38;5;241;43m.\u001b[39;49m\u001b[43mread_csv\u001b[49m\u001b[43m(\u001b[49m\u001b[38;5;124;43m'\u001b[39;49m\u001b[38;5;124;43mStudentsformance.csv\u001b[39;49m\u001b[38;5;124;43m'\u001b[39;49m\u001b[43m)\u001b[49m\n",
      "File \u001b[1;32mc:\\Users\\EC\\AppData\\Local\\Programs\\Python\\Python310\\lib\\site-packages\\pandas\\io\\parsers\\readers.py:1026\u001b[0m, in \u001b[0;36mread_csv\u001b[1;34m(filepath_or_buffer, sep, delimiter, header, names, index_col, usecols, dtype, engine, converters, true_values, false_values, skipinitialspace, skiprows, skipfooter, nrows, na_values, keep_default_na, na_filter, verbose, skip_blank_lines, parse_dates, infer_datetime_format, keep_date_col, date_parser, date_format, dayfirst, cache_dates, iterator, chunksize, compression, thousands, decimal, lineterminator, quotechar, quoting, doublequote, escapechar, comment, encoding, encoding_errors, dialect, on_bad_lines, delim_whitespace, low_memory, memory_map, float_precision, storage_options, dtype_backend)\u001b[0m\n\u001b[0;32m   1013\u001b[0m kwds_defaults \u001b[38;5;241m=\u001b[39m _refine_defaults_read(\n\u001b[0;32m   1014\u001b[0m     dialect,\n\u001b[0;32m   1015\u001b[0m     delimiter,\n\u001b[1;32m   (...)\u001b[0m\n\u001b[0;32m   1022\u001b[0m     dtype_backend\u001b[38;5;241m=\u001b[39mdtype_backend,\n\u001b[0;32m   1023\u001b[0m )\n\u001b[0;32m   1024\u001b[0m kwds\u001b[38;5;241m.\u001b[39mupdate(kwds_defaults)\n\u001b[1;32m-> 1026\u001b[0m \u001b[38;5;28;01mreturn\u001b[39;00m \u001b[43m_read\u001b[49m\u001b[43m(\u001b[49m\u001b[43mfilepath_or_buffer\u001b[49m\u001b[43m,\u001b[49m\u001b[43m \u001b[49m\u001b[43mkwds\u001b[49m\u001b[43m)\u001b[49m\n",
      "File \u001b[1;32mc:\\Users\\EC\\AppData\\Local\\Programs\\Python\\Python310\\lib\\site-packages\\pandas\\io\\parsers\\readers.py:620\u001b[0m, in \u001b[0;36m_read\u001b[1;34m(filepath_or_buffer, kwds)\u001b[0m\n\u001b[0;32m    617\u001b[0m _validate_names(kwds\u001b[38;5;241m.\u001b[39mget(\u001b[38;5;124m\"\u001b[39m\u001b[38;5;124mnames\u001b[39m\u001b[38;5;124m\"\u001b[39m, \u001b[38;5;28;01mNone\u001b[39;00m))\n\u001b[0;32m    619\u001b[0m \u001b[38;5;66;03m# Create the parser.\u001b[39;00m\n\u001b[1;32m--> 620\u001b[0m parser \u001b[38;5;241m=\u001b[39m TextFileReader(filepath_or_buffer, \u001b[38;5;241m*\u001b[39m\u001b[38;5;241m*\u001b[39mkwds)\n\u001b[0;32m    622\u001b[0m \u001b[38;5;28;01mif\u001b[39;00m chunksize \u001b[38;5;129;01mor\u001b[39;00m iterator:\n\u001b[0;32m    623\u001b[0m     \u001b[38;5;28;01mreturn\u001b[39;00m parser\n",
      "File \u001b[1;32mc:\\Users\\EC\\AppData\\Local\\Programs\\Python\\Python310\\lib\\site-packages\\pandas\\io\\parsers\\readers.py:1620\u001b[0m, in \u001b[0;36mTextFileReader.__init__\u001b[1;34m(self, f, engine, **kwds)\u001b[0m\n\u001b[0;32m   1617\u001b[0m     \u001b[38;5;28mself\u001b[39m\u001b[38;5;241m.\u001b[39moptions[\u001b[38;5;124m\"\u001b[39m\u001b[38;5;124mhas_index_names\u001b[39m\u001b[38;5;124m\"\u001b[39m] \u001b[38;5;241m=\u001b[39m kwds[\u001b[38;5;124m\"\u001b[39m\u001b[38;5;124mhas_index_names\u001b[39m\u001b[38;5;124m\"\u001b[39m]\n\u001b[0;32m   1619\u001b[0m \u001b[38;5;28mself\u001b[39m\u001b[38;5;241m.\u001b[39mhandles: IOHandles \u001b[38;5;241m|\u001b[39m \u001b[38;5;28;01mNone\u001b[39;00m \u001b[38;5;241m=\u001b[39m \u001b[38;5;28;01mNone\u001b[39;00m\n\u001b[1;32m-> 1620\u001b[0m \u001b[38;5;28mself\u001b[39m\u001b[38;5;241m.\u001b[39m_engine \u001b[38;5;241m=\u001b[39m \u001b[38;5;28;43mself\u001b[39;49m\u001b[38;5;241;43m.\u001b[39;49m\u001b[43m_make_engine\u001b[49m\u001b[43m(\u001b[49m\u001b[43mf\u001b[49m\u001b[43m,\u001b[49m\u001b[43m \u001b[49m\u001b[38;5;28;43mself\u001b[39;49m\u001b[38;5;241;43m.\u001b[39;49m\u001b[43mengine\u001b[49m\u001b[43m)\u001b[49m\n",
      "File \u001b[1;32mc:\\Users\\EC\\AppData\\Local\\Programs\\Python\\Python310\\lib\\site-packages\\pandas\\io\\parsers\\readers.py:1880\u001b[0m, in \u001b[0;36mTextFileReader._make_engine\u001b[1;34m(self, f, engine)\u001b[0m\n\u001b[0;32m   1878\u001b[0m     \u001b[38;5;28;01mif\u001b[39;00m \u001b[38;5;124m\"\u001b[39m\u001b[38;5;124mb\u001b[39m\u001b[38;5;124m\"\u001b[39m \u001b[38;5;129;01mnot\u001b[39;00m \u001b[38;5;129;01min\u001b[39;00m mode:\n\u001b[0;32m   1879\u001b[0m         mode \u001b[38;5;241m+\u001b[39m\u001b[38;5;241m=\u001b[39m \u001b[38;5;124m\"\u001b[39m\u001b[38;5;124mb\u001b[39m\u001b[38;5;124m\"\u001b[39m\n\u001b[1;32m-> 1880\u001b[0m \u001b[38;5;28mself\u001b[39m\u001b[38;5;241m.\u001b[39mhandles \u001b[38;5;241m=\u001b[39m \u001b[43mget_handle\u001b[49m\u001b[43m(\u001b[49m\n\u001b[0;32m   1881\u001b[0m \u001b[43m    \u001b[49m\u001b[43mf\u001b[49m\u001b[43m,\u001b[49m\n\u001b[0;32m   1882\u001b[0m \u001b[43m    \u001b[49m\u001b[43mmode\u001b[49m\u001b[43m,\u001b[49m\n\u001b[0;32m   1883\u001b[0m \u001b[43m    \u001b[49m\u001b[43mencoding\u001b[49m\u001b[38;5;241;43m=\u001b[39;49m\u001b[38;5;28;43mself\u001b[39;49m\u001b[38;5;241;43m.\u001b[39;49m\u001b[43moptions\u001b[49m\u001b[38;5;241;43m.\u001b[39;49m\u001b[43mget\u001b[49m\u001b[43m(\u001b[49m\u001b[38;5;124;43m\"\u001b[39;49m\u001b[38;5;124;43mencoding\u001b[39;49m\u001b[38;5;124;43m\"\u001b[39;49m\u001b[43m,\u001b[49m\u001b[43m \u001b[49m\u001b[38;5;28;43;01mNone\u001b[39;49;00m\u001b[43m)\u001b[49m\u001b[43m,\u001b[49m\n\u001b[0;32m   1884\u001b[0m \u001b[43m    \u001b[49m\u001b[43mcompression\u001b[49m\u001b[38;5;241;43m=\u001b[39;49m\u001b[38;5;28;43mself\u001b[39;49m\u001b[38;5;241;43m.\u001b[39;49m\u001b[43moptions\u001b[49m\u001b[38;5;241;43m.\u001b[39;49m\u001b[43mget\u001b[49m\u001b[43m(\u001b[49m\u001b[38;5;124;43m\"\u001b[39;49m\u001b[38;5;124;43mcompression\u001b[39;49m\u001b[38;5;124;43m\"\u001b[39;49m\u001b[43m,\u001b[49m\u001b[43m \u001b[49m\u001b[38;5;28;43;01mNone\u001b[39;49;00m\u001b[43m)\u001b[49m\u001b[43m,\u001b[49m\n\u001b[0;32m   1885\u001b[0m \u001b[43m    \u001b[49m\u001b[43mmemory_map\u001b[49m\u001b[38;5;241;43m=\u001b[39;49m\u001b[38;5;28;43mself\u001b[39;49m\u001b[38;5;241;43m.\u001b[39;49m\u001b[43moptions\u001b[49m\u001b[38;5;241;43m.\u001b[39;49m\u001b[43mget\u001b[49m\u001b[43m(\u001b[49m\u001b[38;5;124;43m\"\u001b[39;49m\u001b[38;5;124;43mmemory_map\u001b[39;49m\u001b[38;5;124;43m\"\u001b[39;49m\u001b[43m,\u001b[49m\u001b[43m \u001b[49m\u001b[38;5;28;43;01mFalse\u001b[39;49;00m\u001b[43m)\u001b[49m\u001b[43m,\u001b[49m\n\u001b[0;32m   1886\u001b[0m \u001b[43m    \u001b[49m\u001b[43mis_text\u001b[49m\u001b[38;5;241;43m=\u001b[39;49m\u001b[43mis_text\u001b[49m\u001b[43m,\u001b[49m\n\u001b[0;32m   1887\u001b[0m \u001b[43m    \u001b[49m\u001b[43merrors\u001b[49m\u001b[38;5;241;43m=\u001b[39;49m\u001b[38;5;28;43mself\u001b[39;49m\u001b[38;5;241;43m.\u001b[39;49m\u001b[43moptions\u001b[49m\u001b[38;5;241;43m.\u001b[39;49m\u001b[43mget\u001b[49m\u001b[43m(\u001b[49m\u001b[38;5;124;43m\"\u001b[39;49m\u001b[38;5;124;43mencoding_errors\u001b[39;49m\u001b[38;5;124;43m\"\u001b[39;49m\u001b[43m,\u001b[49m\u001b[43m \u001b[49m\u001b[38;5;124;43m\"\u001b[39;49m\u001b[38;5;124;43mstrict\u001b[39;49m\u001b[38;5;124;43m\"\u001b[39;49m\u001b[43m)\u001b[49m\u001b[43m,\u001b[49m\n\u001b[0;32m   1888\u001b[0m \u001b[43m    \u001b[49m\u001b[43mstorage_options\u001b[49m\u001b[38;5;241;43m=\u001b[39;49m\u001b[38;5;28;43mself\u001b[39;49m\u001b[38;5;241;43m.\u001b[39;49m\u001b[43moptions\u001b[49m\u001b[38;5;241;43m.\u001b[39;49m\u001b[43mget\u001b[49m\u001b[43m(\u001b[49m\u001b[38;5;124;43m\"\u001b[39;49m\u001b[38;5;124;43mstorage_options\u001b[39;49m\u001b[38;5;124;43m\"\u001b[39;49m\u001b[43m,\u001b[49m\u001b[43m \u001b[49m\u001b[38;5;28;43;01mNone\u001b[39;49;00m\u001b[43m)\u001b[49m\u001b[43m,\u001b[49m\n\u001b[0;32m   1889\u001b[0m \u001b[43m\u001b[49m\u001b[43m)\u001b[49m\n\u001b[0;32m   1890\u001b[0m \u001b[38;5;28;01massert\u001b[39;00m \u001b[38;5;28mself\u001b[39m\u001b[38;5;241m.\u001b[39mhandles \u001b[38;5;129;01mis\u001b[39;00m \u001b[38;5;129;01mnot\u001b[39;00m \u001b[38;5;28;01mNone\u001b[39;00m\n\u001b[0;32m   1891\u001b[0m f \u001b[38;5;241m=\u001b[39m \u001b[38;5;28mself\u001b[39m\u001b[38;5;241m.\u001b[39mhandles\u001b[38;5;241m.\u001b[39mhandle\n",
      "File \u001b[1;32mc:\\Users\\EC\\AppData\\Local\\Programs\\Python\\Python310\\lib\\site-packages\\pandas\\io\\common.py:873\u001b[0m, in \u001b[0;36mget_handle\u001b[1;34m(path_or_buf, mode, encoding, compression, memory_map, is_text, errors, storage_options)\u001b[0m\n\u001b[0;32m    868\u001b[0m \u001b[38;5;28;01melif\u001b[39;00m \u001b[38;5;28misinstance\u001b[39m(handle, \u001b[38;5;28mstr\u001b[39m):\n\u001b[0;32m    869\u001b[0m     \u001b[38;5;66;03m# Check whether the filename is to be opened in binary mode.\u001b[39;00m\n\u001b[0;32m    870\u001b[0m     \u001b[38;5;66;03m# Binary mode does not support 'encoding' and 'newline'.\u001b[39;00m\n\u001b[0;32m    871\u001b[0m     \u001b[38;5;28;01mif\u001b[39;00m ioargs\u001b[38;5;241m.\u001b[39mencoding \u001b[38;5;129;01mand\u001b[39;00m \u001b[38;5;124m\"\u001b[39m\u001b[38;5;124mb\u001b[39m\u001b[38;5;124m\"\u001b[39m \u001b[38;5;129;01mnot\u001b[39;00m \u001b[38;5;129;01min\u001b[39;00m ioargs\u001b[38;5;241m.\u001b[39mmode:\n\u001b[0;32m    872\u001b[0m         \u001b[38;5;66;03m# Encoding\u001b[39;00m\n\u001b[1;32m--> 873\u001b[0m         handle \u001b[38;5;241m=\u001b[39m \u001b[38;5;28;43mopen\u001b[39;49m\u001b[43m(\u001b[49m\n\u001b[0;32m    874\u001b[0m \u001b[43m            \u001b[49m\u001b[43mhandle\u001b[49m\u001b[43m,\u001b[49m\n\u001b[0;32m    875\u001b[0m \u001b[43m            \u001b[49m\u001b[43mioargs\u001b[49m\u001b[38;5;241;43m.\u001b[39;49m\u001b[43mmode\u001b[49m\u001b[43m,\u001b[49m\n\u001b[0;32m    876\u001b[0m \u001b[43m            \u001b[49m\u001b[43mencoding\u001b[49m\u001b[38;5;241;43m=\u001b[39;49m\u001b[43mioargs\u001b[49m\u001b[38;5;241;43m.\u001b[39;49m\u001b[43mencoding\u001b[49m\u001b[43m,\u001b[49m\n\u001b[0;32m    877\u001b[0m \u001b[43m            \u001b[49m\u001b[43merrors\u001b[49m\u001b[38;5;241;43m=\u001b[39;49m\u001b[43merrors\u001b[49m\u001b[43m,\u001b[49m\n\u001b[0;32m    878\u001b[0m \u001b[43m            \u001b[49m\u001b[43mnewline\u001b[49m\u001b[38;5;241;43m=\u001b[39;49m\u001b[38;5;124;43m\"\u001b[39;49m\u001b[38;5;124;43m\"\u001b[39;49m\u001b[43m,\u001b[49m\n\u001b[0;32m    879\u001b[0m \u001b[43m        \u001b[49m\u001b[43m)\u001b[49m\n\u001b[0;32m    880\u001b[0m     \u001b[38;5;28;01melse\u001b[39;00m:\n\u001b[0;32m    881\u001b[0m         \u001b[38;5;66;03m# Binary mode\u001b[39;00m\n\u001b[0;32m    882\u001b[0m         handle \u001b[38;5;241m=\u001b[39m \u001b[38;5;28mopen\u001b[39m(handle, ioargs\u001b[38;5;241m.\u001b[39mmode)\n",
      "\u001b[1;31mFileNotFoundError\u001b[0m: [Errno 2] No such file or directory: 'Studentsformance.csv'"
     ]
    }
   ],
   "source": [
    "import pandas as pd\n",
    "\n",
    "df = pd.read_csv('Studentsformance.csv')"
   ]
  },
  {
   "cell_type": "markdown",
   "id": "cd0e72d3",
   "metadata": {},
   "source": [
    "## **문제 2 : 결측치 & 중복 점검하기**\n",
    "    \n",
    "### **문제 설명**\n",
    "    \n",
    "데이터 품질 확인을 위해 결측치와 중복 행을 점검합니다.\n",
    "    \n",
    "### **필요 지식**\n",
    "    \n",
    "`DataFrame.isna().sum`, `DataFrame.duplicated`, `DataFrame.drop_duplicates`\n",
    "    \n",
    "### **지시 사항**\n",
    "    \n",
    "1. 컬럼별 결측치 개수 출력\n",
    "2. 중복 행 개수 출력\n",
    "3. 중복 제거 후 현재 행 수 출력\n",
    "    \n",
    "### **시각화 요구**\n",
    "    \n",
    "(없음)\n",
    "    \n",
    "### **채점 포인트**\n",
    "    \n",
    "- 결측/중복 점검 코드 유무\n",
    "- 중복 제거 후 변화 확인"
   ]
  },
  {
   "cell_type": "markdown",
   "id": "de716541",
   "metadata": {},
   "source": [
    "#### Logic"
   ]
  },
  {
   "cell_type": "raw",
   "id": "584d13d4",
   "metadata": {
    "vscode": {
     "languageId": "raw"
    }
   },
   "source": []
  },
  {
   "cell_type": "markdown",
   "id": "773d5442",
   "metadata": {},
   "source": [
    "#### MY CODING"
   ]
  },
  {
   "cell_type": "code",
   "execution_count": null,
   "id": "852c766a",
   "metadata": {},
   "outputs": [],
   "source": []
  },
  {
   "cell_type": "markdown",
   "id": "4a30ea4b",
   "metadata": {},
   "source": [
    "## **문제 3 : 단일 히스토그램 - 수학 점수 분포 확인하기**\n",
    "    \n",
    "### **문제 설명**\n",
    "    \n",
    "수학 점수 컬럼의 분포 모양을 히스토그램으로 확인합니다.\n",
    "    \n",
    "### **필요 지식**\n",
    "    \n",
    "`plt.hist` 또는 `Series.hist`, bin 개수 설정, 축 라벨/제목\n",
    "    \n",
    "### **지시 사항**\n",
    "    \n",
    "1. `math score`에 대해 **bins=20**으로 히스토그램\n",
    "2. 제목/축 라벨 설정\n",
    "    \n",
    "### **시각화 요구**\n",
    "    \n",
    "- 단일 히스토그램 1개\n",
    "- 보기 좋게 `tight_layout()`\n",
    "- 예상 결과 : (노션 내 이미지 참고)    \n",
    "    \n",
    "### **채점 포인트**\n",
    "    \n",
    "- bin 수 적용\n",
    "- 제목/축 라벨 명시\n",
    "- 단일 그래프 사용"
   ]
  },
  {
   "cell_type": "markdown",
   "id": "5cfe6bd4",
   "metadata": {},
   "source": [
    "#### Logic"
   ]
  },
  {
   "cell_type": "raw",
   "id": "cdc7e94e",
   "metadata": {},
   "source": []
  },
  {
   "cell_type": "markdown",
   "id": "fb3dd6fa",
   "metadata": {},
   "source": [
    "#### MY CODING"
   ]
  },
  {
   "cell_type": "code",
   "execution_count": null,
   "id": "aa9e7224",
   "metadata": {},
   "outputs": [],
   "source": []
  },
  {
   "cell_type": "markdown",
   "id": "47ecd276",
   "metadata": {},
   "source": [
    "## **문제 4 : 세 과목 모두 80점 이상 → 성별 분포 단일 막대그래프로 나타내기**\n",
    "    \n",
    "### **문제 설명**\n",
    "    \n",
    "고득점자 집단(세 과목 모두 80점 이상)을 추출해 성별 분포를 확인합니다.\n",
    "    \n",
    "### **필요 지식**\n",
    "    \n",
    "다중 조건 마스크, `Series.value_counts`, 단일 막대그래프\n",
    "    \n",
    "### **지시 사항**\n",
    "    \n",
    "1. `math score` ≥ 80 & `reading score` ≥ 80 & `writing score` ≥ 80 필터\n",
    "2. 필터 결과의 `gender` 빈도 출력\n",
    "3. 빈도를 **단일 막대그래프**로 시각화\n",
    "    \n",
    "### **시각화 요구**\n",
    "    \n",
    "- 한 그림에 성별 2막대\n",
    "- 제목/축 라벨 설정\n",
    "- 예상 결과 (노션 내 이미지 참고)\n",
    "\n",
    "### **채점 포인트**\n",
    "    \n",
    "- 다중 조건 정확성\n",
    "- `value_counts()` 활용\n",
    "- 단일 그래프 사용"
   ]
  },
  {
   "cell_type": "markdown",
   "id": "ac8020ad",
   "metadata": {},
   "source": [
    "#### Logic"
   ]
  },
  {
   "cell_type": "raw",
   "id": "c8d949df",
   "metadata": {},
   "source": []
  },
  {
   "cell_type": "markdown",
   "id": "4681c43f",
   "metadata": {},
   "source": [
    "#### MY CODING"
   ]
  },
  {
   "cell_type": "code",
   "execution_count": null,
   "id": "af79a87d",
   "metadata": {},
   "outputs": [],
   "source": []
  },
  {
   "cell_type": "markdown",
   "id": "680ae052",
   "metadata": {},
   "source": [
    "## **문제 5 : 시험 준비 완료 & 일반 점심의 평균 점수를 막대그래프로 나타내기**\n",
    "    \n",
    "### **문제 설명**\n",
    "    \n",
    "두 조건을 동시에 만족하는 학생만 추출해, 세 과목 평균을 비교합니다. \n",
    "    \n",
    "### **필요 지식**\n",
    "    \n",
    "불리언 마스크(`&`), `DataFrame.loc`, `DataFrame.mean`, 반올림(`Series.round`), 단일 막대 그래프\n",
    "    \n",
    "### **지시 사항**\n",
    "    \n",
    "1. **AND** 필터를 사용해서 조건 결합\n",
    "2. `math/reading/writing score` 평균을 **소수점 1자리**로 출력\n",
    "3. 평균 3개를 **단일 막대그래프**로 시각화(한 그림)\n",
    "    \n",
    "### **시각화 요구**\n",
    "    \n",
    "- 한 그림에 막대 3개\n",
    "- 제목/축 라벨 설정, y축 [0,100] 권장 → `plt.ylim`\n",
    "- 예상 결과 (노션 내 이미지 참고)\n",
    "    \n",
    "### **채점 포인트**\n",
    "    \n",
    "- 조건 결합(AND) 정확성\n",
    "- 평균/반올림 적용\n",
    "- 단일 그래프 사용"
   ]
  },
  {
   "cell_type": "markdown",
   "id": "12caaa7f",
   "metadata": {},
   "source": [
    "#### Logic"
   ]
  },
  {
   "cell_type": "raw",
   "id": "5f308517",
   "metadata": {},
   "source": []
  },
  {
   "cell_type": "markdown",
   "id": "6794dbaa",
   "metadata": {},
   "source": [
    "#### MY CODING"
   ]
  },
  {
   "cell_type": "code",
   "execution_count": null,
   "id": "e72bd37e",
   "metadata": {},
   "outputs": [],
   "source": []
  },
  {
   "cell_type": "markdown",
   "id": "d465784b",
   "metadata": {},
   "source": [
    "## **문제 6 : 부모 학력별 수학 평균 단일 산점도로 나타내기**\n",
    "    \n",
    "### **문제 설명**\n",
    "    \n",
    "범주형 변수 **부모 학력별**을 나타내는 컬럼별 **수학 점수 평균**을 계산해, **단일 산점도**로 평균값을 비교해 보세요.\n",
    "    \n",
    "평균이 높은 순으로 **정렬된 카테고리 순서**로 표시하면, 어떤 학력군에서 수학 평균이 높은지 한눈에 볼 수 있습니다.\n",
    "    \n",
    "> 참고: 범주 간 연결선은 의미가 불분명할 수 있어 점만 표시합니다(선 연결 X).\n",
    "> \n",
    "    \n",
    "### **필요 지식**\n",
    "    \n",
    "- `groupby(...).mean()`로 범주별 평균 계산\n",
    "- `Series.sort_values()`로 내림차순 정렬\n",
    "- **Seaborn `scatterplot`** 또는 **Matplotlib `plt.scatter`** 기본 사용\n",
    "- 축 레이블, 제목, x축 라벨 회전, `ylim` 등 기본 서식\n",
    "    \n",
    "### **지시 사항**\n",
    "    \n",
    "1. `parental level of education`별 평균 `math score`를 계산하고 **소수점 1자리**로 반올림해 표로 출력하세요.\n",
    "2. 평균값을 **내림차순**으로 정렬한 **카테고리 순서(order)**를 만드세요.\n",
    "3. 단일 그래프(1개)로 **산점도**를 그리세요.\n",
    "    - x축: `parental level of education` (정렬된 순서 적용)\n",
    "    - y축: `math score`의 평균\n",
    "    - **점만 표시**(선 연결 X)\n",
    "    - 제목/축 라벨 지정, x축 라벨 회전(예: 30°)\n",
    "    - y축 범위는 `0~100` 권장\n",
    "    \n",
    "### **시각화 요구**\n",
    "    \n",
    "- 그래프 **1개** (서브플롯/여러 차트 금지)\n",
    "- 루프(`for p in ax.patches:` 등) 사용 금지\n",
    "- 제목/축 라벨/라벨 회전/축 범위 정리\n",
    "- 예상 결과 (노션 내 이미지 참고)\n",
    "    \n",
    "### **채점 포인트**\n",
    "    \n",
    "- 평균 계산 및 **내림차순 정렬**이 정확한가?\n",
    "- 산점도에 **정렬된 order**가 반영되었는가?\n",
    "- 단일 그래프 요건을 지켰는가? (선 연결 없음)\n",
    "- 기본 서식(제목/축 라벨/회전/축 범위)을 적용했는가?"
   ]
  },
  {
   "cell_type": "markdown",
   "id": "cbd93734",
   "metadata": {},
   "source": [
    "#### Logic"
   ]
  },
  {
   "cell_type": "raw",
   "id": "92e82cdb",
   "metadata": {},
   "source": []
  },
  {
   "cell_type": "markdown",
   "id": "c0989b01",
   "metadata": {},
   "source": [
    "#### MY CODING"
   ]
  },
  {
   "cell_type": "code",
   "execution_count": null,
   "id": "cc6a68b0",
   "metadata": {},
   "outputs": [],
   "source": []
  },
  {
   "cell_type": "markdown",
   "id": "717743e6",
   "metadata": {},
   "source": [
    "## **문제 7 : 부모 학력 수준별 고득점 비율(%) 계산 & 단일 막대그래프로 나타내기**\n",
    "    \n",
    "### **문제 설명**\n",
    "    \n",
    "세 과목(수학, 읽기, 쓰기)이 **모두 80점 이상**인 “고득점자” 비율을 **부모 학력 수준별**로 계산해 비교합니다.\n",
    "    \n",
    "단순 평균이 아니라 비율(= 고득점자 수 / 전체 수 × 100)을 계산해야 하므로, 그룹별 분모·분자를 정확히 맞춰 계산하는 것이 핵심입니다.\n",
    "    \n",
    "### **필요 지식**\n",
    "    \n",
    "- 불리언 필터(다중 조건 AND)\n",
    "- `groupby(...).size()`로 **그룹별 건수** 계산\n",
    "- 인덱스 정렬·정렬 순서 유지(`reindex`)\n",
    "- `Series` 간 연산으로 **비율** 계산, `fillna(0)`, 반올림\n",
    "- 단일 **bar plot** (Matplotlib 또는 pandas `.plot(kind='bar')`)\n",
    "    \n",
    "### **지시 사항**\n",
    "    \n",
    "1. “고득점자” 필터: 세 과목이 모두 **≥ 80**\n",
    "2. 부모 학력 수준별 **전체 학생 수**(분모)와 **고득점자 수**(분자) 계산\n",
    "3. **비율(%)** = (분자 / 분모) × 100 → **소수점 1자리** 반올림\n",
    "4. **내림차순**으로 정렬 후 **단일 막대그래프** 1개로 시각화 (y축 0~100 권장)\n",
    "    \n",
    "### **시각화 요구**\n",
    "    \n",
    "- 그래프 1개(서브플롯 X)\n",
    "- 제목/축 라벨 설정, x라벨 회전(필요 시)\n",
    "- 예상 결과    \n",
    "    \n",
    "### **채점 포인트**\n",
    "    \n",
    "- 분모/분자 계산을 **같은 그룹 축**으로 정확히 맞췄는가?\n",
    "- 결측 그룹을 `fillna(0)` 등으로 적절히 처리했는가?\n",
    "- 비율(%)을 소수점 1자리로 명시했는가?\n",
    "- 단일 그래프 요건과 기본 서식을 지켰는가?"
   ]
  },
  {
   "cell_type": "markdown",
   "id": "72b97d2b",
   "metadata": {},
   "source": [
    "#### Logic"
   ]
  },
  {
   "cell_type": "raw",
   "id": "0cdac9aa",
   "metadata": {},
   "source": []
  },
  {
   "cell_type": "markdown",
   "id": "7d60640a",
   "metadata": {},
   "source": [
    "#### MY CODING"
   ]
  },
  {
   "cell_type": "code",
   "execution_count": null,
   "id": "e1ac7871",
   "metadata": {},
   "outputs": [],
   "source": []
  },
  {
   "cell_type": "markdown",
   "id": "7e160624",
   "metadata": {},
   "source": [
    "## **문제 8 : 인종/민족 그룹별 읽기 점수 분포 비교(바이올린 플롯)**\n",
    "    \n",
    "### **문제 설명**\n",
    "    \n",
    "각 컬럼 그룹에서 **읽기 점수(`reading score`)의 분포**를 비교하세요.\n",
    "    \n",
    "막대 대신 **바이올린 플롯**을 사용하여, 그룹별 **중앙값과 사분위 범위**를 한눈에 확인하고, **중앙값이 가장 높은 그룹**을 코드로 찾아 출력합니다.\n",
    "    \n",
    "**바이올린 플롯은 분포의 모양까지 보여주기 때문에 상위권/하위권이 어디에 몰려 있는지 파악하기 쉽습니다.**\n",
    "    \n",
    "### **필요 지식**\n",
    "    \n",
    "- `groupby(...).median()`로 그룹별 **중앙값** 계산\n",
    "- `Series.sort_values()`로 **내림차순 정렬** 및 순서 지정\n",
    "- **Seaborn `violinplot`** 기본 사용법 (`inner='quartile'` 권장)\n",
    "- 단일 그래프 기본 서식: 제목/축 라벨/눈금 회전/축 범위\n",
    "    \n",
    "  \n",
    "### **지시 사항**\n",
    "    \n",
    "1. `race/ethnicity`별 **reading score 중앙값**을 계산해 **소수점 1자리**로 반올림하고, **내림차순**으로 정렬해 표로 출력하세요.\n",
    "2. 위 정렬 순서를 `violinplot`의 **order**로 적용해 **단일 그래프** 1개를 그리세요.\n",
    "    - x축: `race/ethnicity` (정렬된 순서)\n",
    "    - y축: `reading score`\n",
    "    - `inner='quartile'`로 중앙값/사분위선을 표시\n",
    "    - 제목/축 라벨/라벨 회전(필요 시), y축 범위 `0~100` 권장\n",
    "3. **중앙값이 가장 높은 그룹명**을 코드로 출력하세요.\n",
    "    \n",
    "### **시각화 요구**\n",
    "    \n",
    "- 그래프 **1개**(서브플롯 금지)\n",
    "- 루프(`for p in ax.patches:` 등) 사용 금지\n",
    "- 제목/축 라벨/라벨 회전/축 범위 정리\n",
    "- 예상 결과\n",
    "    \n",
    "### **채점 포인트**\n",
    "    \n",
    "- 중앙값 계산 및 **내림차순 정렬**을 정확히 수행했는가?\n",
    "- 정렬된 **order**가 플롯에 반영되었는가?\n",
    "- `inner='quartile'`로 요약선을 표시했는가?\n",
    "- **가장 높은 중앙값의 그룹**을 코드로 올바르게 출력했는가?\n",
    "- 단일 그래프 요건과 기본 서식을 지켰는가?"
   ]
  },
  {
   "cell_type": "markdown",
   "id": "5efe8876",
   "metadata": {},
   "source": [
    "#### Logic"
   ]
  },
  {
   "cell_type": "raw",
   "id": "c27ddcf3",
   "metadata": {},
   "source": []
  },
  {
   "cell_type": "markdown",
   "id": "72abcb6f",
   "metadata": {},
   "source": [
    "#### MY CODING"
   ]
  },
  {
   "cell_type": "code",
   "execution_count": null,
   "id": "2ed345ca",
   "metadata": {},
   "outputs": [],
   "source": []
  }
 ],
 "metadata": {
  "kernelspec": {
   "display_name": "Python 3",
   "language": "python",
   "name": "python3"
  },
  "language_info": {
   "codemirror_mode": {
    "name": "ipython",
    "version": 3
   },
   "file_extension": ".py",
   "mimetype": "text/x-python",
   "name": "python",
   "nbconvert_exporter": "python",
   "pygments_lexer": "ipython3",
   "version": "3.10.11"
  }
 },
 "nbformat": 4,
 "nbformat_minor": 5
}
