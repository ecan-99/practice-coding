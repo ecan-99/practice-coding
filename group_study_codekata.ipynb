{
 "cells": [
  {
   "cell_type": "code",
   "execution_count": null,
   "id": "13e0b46e",
   "metadata": {},
   "outputs": [],
   "source": [
    "# 문제 링크 https://school.programmers.co.kr/learn/courses/30/lessons/120956\n",
    "\n",
    "#시도 1\n",
    "\n",
    "def solution(babbling):\n",
    "    c_bab = ['aya', 'ye', 'woo', 'ma']\n",
    "    count = 0\n",
    "    for word in babbling:\n",
    "        for i in c_bab:\n",
    "            word = word.replace(i, '')\n",
    "        if word == '':\n",
    "            count += 1\n",
    "    return count\n",
    "\n",
    "solution('wyeoo')\n",
    "\n",
    "# 'wyeoo'처리가 문제 였음 babbling을 리스트로 받으면 오류가 뜨고 그냥 문자열로 받으면 통과가 되는데 문자열로 받아서 계속 이유를 찾았었음. 어찌됐든 다른 방법을 찾아야 함\n",
    "\n",
    "# 시도 2\n",
    "def solution(babbling):\n",
    "    c_bab = ['aya', 'ye', 'woo', 'ma']\n",
    "    count = 0\n",
    "    for word in babbling:\n",
    "        for i in c_bab:\n",
    "            word = word.replace(i, ' ')\n",
    "        if word.strip() == '':\n",
    "            count += 1\n",
    "    return count"
   ]
  },
  {
   "cell_type": "code",
   "execution_count": null,
   "id": "b5744caa",
   "metadata": {},
   "outputs": [
    {
     "data": {
      "text/plain": [
       "3000"
      ]
     },
     "metadata": {},
     "output_type": "display_data"
    }
   ],
   "source": [
    "# 문제 링크 https://school.programmers.co.kr/learn/courses/30/lessons/86491\n",
    "\n",
    "def solution(sizes):\n",
    "    width = [] # 짧\n",
    "    length = [] # 긴\n",
    "    for size in sizes:\n",
    "        max_size = max(size)\n",
    "        min_size = min(size)\n",
    "        length.append(max_size)\n",
    "        width.append(min_size)\n",
    "    max_width = max(width)\n",
    "    max_length = max(length)\n",
    "    return max_width * max_length\n",
    "\n",
    "\n",
    "sizes = [[60, 50], [30, 70], [60, 30], [80, 40]]\n",
    "\n",
    "solution(sizes)"
   ]
  }
 ],
 "metadata": {
  "kernelspec": {
   "display_name": "Python 3",
   "language": "python",
   "name": "python3"
  },
  "language_info": {
   "name": "python",
   "version": "3.10.11"
  }
 },
 "nbformat": 4,
 "nbformat_minor": 5
}
