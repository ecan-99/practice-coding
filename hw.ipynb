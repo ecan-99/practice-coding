{
 "cells": [
  {
   "cell_type": "markdown",
   "id": "b345ef60",
   "metadata": {},
   "source": [
    "### 문제 1\n",
    "\n",
    "정수 리스트에서 짝수만 골라 합계를 반환하는 함수를 작성하세요."
   ]
  },
  {
   "cell_type": "code",
   "execution_count": null,
   "id": "8d172ac0",
   "metadata": {},
   "outputs": [
    {
     "name": "stdout",
     "output_type": "stream",
     "text": [
      "46000\n"
     ]
    }
   ],
   "source": [
    "\n",
    "\n",
    "def sum_even(n):\n",
    "    num = []\n",
    "    for i in numbers:\n",
    "        if i % 2 == 0 :\n",
    "            num.append(i)\n",
    "        else:\n",
    "            pass\n",
    "    return sum(num)\n",
    "\n",
    "# numbers = [3000, 7000, 2000, 8000, 5000, 10000, 11000]\n",
    "# a = sum_even(numbers)\n",
    "\n",
    "# print(a)"
   ]
  },
  {
   "cell_type": "markdown",
   "id": "4af20696",
   "metadata": {},
   "source": [
    "### 문제 2\n",
    "\n",
    "문자열에서 공백 기준 단어 수를 반환하는 함수를 작성하세요."
   ]
  },
  {
   "cell_type": "code",
   "execution_count": null,
   "id": "52360fbb",
   "metadata": {},
   "outputs": [
    {
     "name": "stdout",
     "output_type": "stream",
     "text": [
      "3\n"
     ]
    }
   ],
   "source": [
    "text = \"  hello   world  python  \"\n",
    "\n",
    "\n",
    "def count_words(text):\n",
    "        text.strip()\n",
    "        word = text.split()\n",
    "        return len(word)\n",
    "\n",
    "\n",
    "# a = count_words(text)\n",
    "\n",
    "# print(a)"
   ]
  },
  {
   "cell_type": "markdown",
   "id": "4c340aa3",
   "metadata": {},
   "source": [
    "### 문제 3\n",
    "\n",
    "문자열에서 **숫자 문자(0–9)**만 찾아 **모두 더한 합**을 반환하세요.\n",
    "(연속된 숫자라도 **각 자리수**를 더합니다. 예: `\"23\"` → 2+3=5)"
   ]
  },
  {
   "cell_type": "code",
   "execution_count": null,
   "id": "238dce3a",
   "metadata": {},
   "outputs": [
    {
     "name": "stdout",
     "output_type": "stream",
     "text": [
      "18\n"
     ]
    }
   ],
   "source": [
    "def sum_of_digits(text):\n",
    "    num = 0\n",
    "    for i in text:\n",
    "        if i.isdigit():\n",
    "            num += int(i) \n",
    "        else:\n",
    "            pass\n",
    "    return num\n",
    "\n",
    "\n",
    "# text = \"a1b23c004\"\n",
    "# text = \"Hello\"\n",
    "# text = \"9-9=0\"\n",
    "\n",
    "# a = sum_of_digits(text)\n",
    "# print(a)"
   ]
  },
  {
   "cell_type": "markdown",
   "id": "0cd4b854",
   "metadata": {},
   "source": [
    "### 문제 4\n",
    "\n",
    "{이름: 점수} 딕셔너리를 받아 합격/불합격 인원 수를 딕셔너리로 반환하세요. (기본 합격 기준 60점)"
   ]
  },
  {
   "cell_type": "code",
   "execution_count": null,
   "id": "6b49198e",
   "metadata": {},
   "outputs": [
    {
     "name": "stdout",
     "output_type": "stream",
     "text": [
      "{'pass': 2, 'fail': 2}\n"
     ]
    }
   ],
   "source": [
    "def grade_pass_fail(scores, threshold=60):\n",
    "    p_n = {}\n",
    "    p = 1\n",
    "    f = 1\n",
    "    for k, v in scores.items():\n",
    "        if v >= 60:\n",
    "            p_n['pass'] = p\n",
    "            p += 1\n",
    "        else:\n",
    "            p_n['fail'] = f\n",
    "            f += 1\n",
    "    return p_n\n",
    "\n",
    "# scores = {\"Alice\": 85, \"Bob\": 52, \"Chris\": 60, \"Dana\": 59}\n",
    "\n",
    "# a = grade_pass_fail(scores)\n",
    "# print(a)\n",
    "\n"
   ]
  },
  {
   "cell_type": "markdown",
   "id": "fe0b7805",
   "metadata": {},
   "source": [
    "### 문제 5\n",
    "\n",
    "current와 arrival 두 딕셔너리를 받아 상품별 총 재고 딕셔너리를 반환하세요."
   ]
  },
  {
   "cell_type": "code",
   "execution_count": null,
   "id": "8f48a8ff",
   "metadata": {},
   "outputs": [
    {
     "name": "stdout",
     "output_type": "stream",
     "text": [
      "{'apple': 5, 'bread': 4, 'banana': 5, 'milk': 3}\n"
     ]
    }
   ],
   "source": [
    "\n",
    "def merge_inventory(current, arrival):\n",
    "    storage = {}\n",
    "    for k,v in current.items():\n",
    "        for k1, v1 in arrival.items():\n",
    "            if k == k1:\n",
    "                storage[k] = v + v1 # storage[k] += v1\n",
    "            else:\n",
    "                if k1 not in current:\n",
    "                    storage[k1] = v1\n",
    "                if  k not in arrival:\n",
    "                    storage[k] = v\n",
    "    return storage\n",
    "\n",
    "# current = {\"apple\": 5, \"banana\": 2, \"milk\": 1}\n",
    "# arrival = {\"banana\": 3, \"bread\": 4, \"milk\": 2}\n",
    "\n",
    "# a = merge_inventory(current, arrival)\n",
    "# print(a)\n",
    "\n",
    "            \n"
   ]
  },
  {
   "cell_type": "markdown",
   "id": "0147fad4",
   "metadata": {},
   "source": [
    "### 문제 6\n",
    "\n",
    "정수 리스트 nums와 정수 target이 주어질 때, 합이 target이 되는 서로 다른 두 인덱스를 (i, j)로 반환하세요. (없으면 (-1, -1))\n"
   ]
  },
  {
   "cell_type": "code",
   "execution_count": 12,
   "id": "8fd8d516",
   "metadata": {},
   "outputs": [],
   "source": [
    "#nums에 있는 값 2개를 더했을 때 target이면 그 수의 인덱스를 튜플로 반환\n",
    "\n",
    "def two_sum(nums, target):\n",
    "    for i in range(len(nums)):\n",
    "        for j in range(i+1, len(nums)):\n",
    "            if nums[i] + nums[j] == target:\n",
    "                return (i, j)\n",
    "    return (-1,-1)\n"
   ]
  },
  {
   "cell_type": "markdown",
   "id": "3106c0dd",
   "metadata": {},
   "source": [
    "### 문제 7\n",
    "\n",
    "정수 리스트 `data`와 윈도우 크기 `k`가 주어질 때, **길이 k의 구간 평균 리스트**를 반환하세요. (각 평균은 **소수 둘째 자리 반올림**)"
   ]
  },
  {
   "cell_type": "code",
   "execution_count": null,
   "id": "522c82c9",
   "metadata": {},
   "outputs": [
    {
     "name": "stdout",
     "output_type": "stream",
     "text": [
      "[0.0, 5.0, 15.0]\n"
     ]
    }
   ],
   "source": [
    "def moving_average(data, k):\n",
    "    avg_data = []\n",
    "    if len(data) < k or k <= 0:\n",
    "        return []\n",
    "    else:\n",
    "        for i in range(len(data)-k+1): #sum 안에 k+i를 했을 때 len(data) 를 넘으면 안되기 때문에\n",
    "            data1 = sum(data[i:k+i]) \n",
    "            avg_data.append(round(data1/k, 2))\n",
    "        return avg_data\n",
    "    \n",
    "\n",
    "# q = moving_average([10, 20, 30, 40, 50], 3)\n",
    "# q = moving_average([1, 2, 3], 0)\n",
    "# w = moving_average([1, 2, 3], -2)\n",
    "# e = moving_average([1, 2, 3], 5)\n",
    "# r = moving_average([5, 7, 9], 1)\n",
    "# a = moving_average([1, 2, 3, 4], 4)\n",
    "# s = moving_average([-1, -2, -3, -4], 2)\n",
    "# d = moving_average([1, 2, 2], 2)\n",
    "# f = moving_average([0, 0, 10, 20], 2)\n",
    "\n",
    "# print(f)\n",
    "\n"
   ]
  },
  {
   "cell_type": "markdown",
   "id": "10ebebc6",
   "metadata": {},
   "source": [
    "### 문제 8\n",
    "\n",
    "오름차순 정렬된 서로 다른 정수 리스트가 주어졌을 때, 연속 구간은 a-b, 단일 값은 a로 표현하여 \",\"로 연결한 문자열을 반환하세요."
   ]
  },
  {
   "cell_type": "code",
   "execution_count": null,
   "id": "98a8adf8",
   "metadata": {},
   "outputs": [
    {
     "name": "stdout",
     "output_type": "stream",
     "text": [
      "0\n",
      "1\n",
      "2\n",
      "3\n",
      "4\n"
     ]
    }
   ],
   "source": [
    "# 리스트에서 숫자를 하나씩 가져온다음 다음 숫자와 비교해서 연속되면 임시 리스트에 집어넣고 나중에 최솟값 최댓값을 가져와서 하나의 구간을 만들고\n",
    "# 연속 되지 않을 때는 \n",
    "# 연속된 구간에서 처리 \n",
    "# 연속되지 않는 구간을 만났을 때의 처리 \n",
    "# 연속되지 않는 구간이 연속될 때 \n",
    "# 문자열로 하나로 만들기\n",
    "\n",
    "def compress_ranges(nums):\n",
    "    seq_lst = []\n",
    "    result_lst = []\n",
    "    result = ''\n",
    "    for i in range(len(nums)-1):\n",
    "        if num[i] + 1 == num[i +1]:\n",
    "            seq_lst.append[i]\n",
    "        elif num[i] != num[i+1] and seq_lst == []:\n",
    "            result \n",
    "        elif num[i] != num[i+1]:\n",
    "            seq_lst.append[i]\n",
    "            result += str(min(seq_lst)) + '-' + str(max(seq_lst)) + ','\n",
    "            seq_lst.clear()\n",
    "    \n",
    "    return\n",
    "\n",
    "\n",
    "123 4 6 8"
   ]
  },
  {
   "cell_type": "code",
   "execution_count": null,
   "id": "4fdd74b2",
   "metadata": {},
   "outputs": [
    {
     "name": "stdout",
     "output_type": "stream",
     "text": [
      "1-1\n"
     ]
    }
   ],
   "source": []
  },
  {
   "cell_type": "code",
   "execution_count": null,
   "id": "f11ebf5e",
   "metadata": {},
   "outputs": [],
   "source": []
  }
 ],
 "metadata": {
  "kernelspec": {
   "display_name": "Python 3",
   "language": "python",
   "name": "python3"
  },
  "language_info": {
   "codemirror_mode": {
    "name": "ipython",
    "version": 3
   },
   "file_extension": ".py",
   "mimetype": "text/x-python",
   "name": "python",
   "nbconvert_exporter": "python",
   "pygments_lexer": "ipython3",
   "version": "3.10.11"
  }
 },
 "nbformat": 4,
 "nbformat_minor": 5
}
